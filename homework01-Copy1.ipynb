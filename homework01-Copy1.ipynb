{
 "cells": [
  {
   "cell_type": "code",
   "execution_count": 3,
   "id": "6e34cad0-3b09-488b-bfd4-96edd7474ead",
   "metadata": {},
   "outputs": [
    {
     "name": "stdin",
     "output_type": "stream",
     "text": [
      " 2\n"
     ]
    },
    {
     "name": "stdout",
     "output_type": "stream",
     "text": [
      "4\n"
     ]
    }
   ],
   "source": [
    "#bai1\n",
    "a = int(input())\n",
    "T = 2 * a\n",
    "print(T)"
   ]
  },
  {
   "cell_type": "code",
   "execution_count": 5,
   "id": "e15225a9-1c62-453f-ba06-a0756fb544d3",
   "metadata": {},
   "outputs": [
    {
     "name": "stdin",
     "output_type": "stream",
     "text": [
      " 6 4\n"
     ]
    },
    {
     "name": "stdout",
     "output_type": "stream",
     "text": [
      "Diện tích phần đất còn lại là 11.44\n"
     ]
    }
   ],
   "source": [
    "#bai2\n",
    "a, b = map(float, input().split())\n",
    "t = a * b - 3.14 * (b/2)**2\n",
    "print(f\"Diện tích phần đất còn lại là {t:.2f}\")"
   ]
  },
  {
   "cell_type": "code",
   "execution_count": 6,
   "id": "749ffa14-7001-4788-a955-61bbaa57e5c3",
   "metadata": {},
   "outputs": [
    {
     "name": "stdin",
     "output_type": "stream",
     "text": [
      "Nhập 1 kí tự:  a\n"
     ]
    },
    {
     "name": "stdout",
     "output_type": "stream",
     "text": [
      "kết quả: A\n"
     ]
    }
   ],
   "source": [
    "#bai3\n",
    "c= input(\"Nhập 1 kí tự: \")\n",
    "\n",
    "if c.isalpha():\n",
    "    print(\"kết quả:\", c.swapcase())"
   ]
  },
  {
   "cell_type": "code",
   "execution_count": 37,
   "id": "162e0cd9-527e-4595-b81c-13d6f1e6a395",
   "metadata": {},
   "outputs": [
    {
     "name": "stdin",
     "output_type": "stream",
     "text": [
      "Nhập một kí tự:  a\n"
     ]
    },
    {
     "name": "stdout",
     "output_type": "stream",
     "text": [
      "'a' là kí tự alphabet\n"
     ]
    }
   ],
   "source": [
    "#bai4\n",
    "c = input(\"Nhập một kí tự: \")\n",
    "\n",
    "if c.isalpha():   # kiểm tra có phải là chữ cái (a-z, A-Z)\n",
    "    print(f\"'{c}' là kí tự alphabet\")\n",
    "else:\n",
    "    print(f\"'{c}' không phải là kí tự alphabet\")"
   ]
  },
  {
   "cell_type": "code",
   "execution_count": 38,
   "id": "79519f70-d613-4669-8434-ce7e55ca871e",
   "metadata": {},
   "outputs": [
    {
     "name": "stdin",
     "output_type": "stream",
     "text": [
      "Nhập một chữ cái hoa (A-Z):  F\n"
     ]
    },
    {
     "name": "stdout",
     "output_type": "stream",
     "text": [
      "Chữ cái thường liền trước 'f' là 'e'\n"
     ]
    }
   ],
   "source": [
    "#bai5\n",
    "c = input(\"Nhập một chữ cái hoa (A-Z): \")\n",
    "\n",
    "if c.isupper():  \n",
    "    if c == 'A':\n",
    "        print(\"Trường hợp đặc biệt: trước 'a' không có chữ cái nào.\")\n",
    "    else:\n",
    "        prev_char = chr(ord(c.lower()) - 1)\n",
    "        print(f\"Chữ cái thường liền trước '{c.lower()}' là '{prev_char}'\")\n"
   ]
  },
  {
   "cell_type": "code",
   "execution_count": 2,
   "id": "e0ce6f7c-e353-4d35-8fe0-1c2922241a2a",
   "metadata": {},
   "outputs": [
    {
     "name": "stdin",
     "output_type": "stream",
     "text": [
      " 2 3 4\n"
     ]
    },
    {
     "name": "stdout",
     "output_type": "stream",
     "text": [
      "Diện tích tam giác là 2.9\n"
     ]
    }
   ],
   "source": [
    "#bai6\n",
    "from math import sqrt\n",
    "a, b, c = map(float, input().split())\n",
    "if a + b > c and a + c > b and b + c > a:\n",
    "    p  = (a + b + c) / 2\n",
    "    S = sqrt(p*(p-a)*(p-b)*(p-c))\n",
    "    print(f\"Diện tích tam giác là {S:.1f}\")\n",
    "else:\n",
    "    print(\"Không phải là tam giác\")"
   ]
  },
  {
   "cell_type": "code",
   "execution_count": 17,
   "id": "8d38a47f-fa2a-41d9-bfd2-a8f17fc1e889",
   "metadata": {},
   "outputs": [
    {
     "name": "stdin",
     "output_type": "stream",
     "text": [
      "Nhập các kí tự:  zxcvbnmasdfghjklqwer\n"
     ]
    },
    {
     "name": "stdout",
     "output_type": "stream",
     "text": [
      "chữ cái thứ 5 là b\n",
      "chữ cái thứ 9 là s\n"
     ]
    }
   ],
   "source": [
    "#bai7\n",
    "chuoi = input(\"Nhập các kí tự: \")\n",
    "if chuoi.islower() and len(chuoi) >=20:\n",
    "    print(\"chữ cái thứ 5 là\", chuoi[4])\n",
    "    print(\"chữ cái thứ 9 là\", chuoi[8])\n",
    "else:\n",
    "    print(\"Chuỗi không hợp lệ\")"
   ]
  },
  {
   "cell_type": "code",
   "execution_count": 20,
   "id": "29a32072-fd69-4bfe-b869-2da4651a8af4",
   "metadata": {},
   "outputs": [
    {
     "name": "stdin",
     "output_type": "stream",
     "text": [
      "Họ và tên chủ hộ:  Pham Xuan Toai\n",
      "Số điện tháng trước:  1020\n",
      "Số điện tháng này:  1070\n"
     ]
    },
    {
     "name": "stdout",
     "output_type": "stream",
     "text": [
      "Số tiền điện phải trả là: 107136\n"
     ]
    }
   ],
   "source": [
    "#bai 8\n",
    "a = input(\"Họ và tên chủ hộ: \")\n",
    "b = int(input(\"Số điện tháng trước: \"))\n",
    "c = int(input(\"Số điện tháng này: \"))\n",
    "d = c - b\n",
    "if d > 0:\n",
    "    if d <= 50:\n",
    "        tien = d * 1984\n",
    "    elif d <= 100:\n",
    "        tien = d * 2050\n",
    "    elif d <= 200:\n",
    "        tien = d * 2380\n",
    "    elif d <= 300:\n",
    "        tien = d * 2990\n",
    "    elif d <= 400:\n",
    "        tien = d * 3350\n",
    "    else:\n",
    "        tien = d * 3460  \n",
    "\n",
    "    tong = tien * 1.08\n",
    "    print(f'Số tiền điện phải trả là: {round(tong)}')\n",
    "else:\n",
    "    print(\"Số điện nhập không hợp lệ!\")\n"
   ]
  },
  {
   "cell_type": "code",
   "execution_count": 21,
   "id": "ac1ab0ba-73dc-4fc2-8d22-f990f7f73e87",
   "metadata": {},
   "outputs": [
    {
     "name": "stdin",
     "output_type": "stream",
     "text": [
      " 5\n"
     ]
    },
    {
     "name": "stdout",
     "output_type": "stream",
     "text": [
      "Số lẻ\n"
     ]
    }
   ],
   "source": [
    "\n",
    "#bt1\n",
    "a = int(input())\n",
    "if a % 2 == 0:\n",
    "    print(\"Số chẵn\")\n",
    "else:\n",
    "    print(\"Số lẻ\")\n"
   ]
  },
  {
   "cell_type": "code",
   "execution_count": 27,
   "id": "81bac46f-43ce-4b83-94e6-67a3d192e7f6",
   "metadata": {},
   "outputs": [
    {
     "name": "stdin",
     "output_type": "stream",
     "text": [
      " 100\n"
     ]
    },
    {
     "name": "stdout",
     "output_type": "stream",
     "text": [
      "False\n"
     ]
    }
   ],
   "source": [
    "#bt2\n",
    "a = int(input())\n",
    "if a % 10 == 5:\n",
    "    print(\"True\")\n",
    "else:\n",
    "    print(\"False\")"
   ]
  },
  {
   "cell_type": "code",
   "execution_count": 22,
   "id": "a78905d2-615a-4a05-88be-be7a4e941857",
   "metadata": {},
   "outputs": [
    {
     "name": "stdin",
     "output_type": "stream",
     "text": [
      " 34\n"
     ]
    },
    {
     "name": "stdout",
     "output_type": "stream",
     "text": [
      "False\n"
     ]
    }
   ],
   "source": [
    "#bt3\n",
    "a = int(input())\n",
    "if a % 5 == 0 and a % 3 == 0:\n",
    "    print(\"True\")\n",
    "else:\n",
    "    print(\"False\")"
   ]
  },
  {
   "cell_type": "code",
   "execution_count": 23,
   "id": "d55dcb5b-e3c7-406f-a313-34f0442bd7bf",
   "metadata": {},
   "outputs": [
    {
     "name": "stdin",
     "output_type": "stream",
     "text": [
      "Số tuổi của người bầu cử:  23\n"
     ]
    },
    {
     "name": "stdout",
     "output_type": "stream",
     "text": [
      "Đủ tuổi bầu cử\n"
     ]
    }
   ],
   "source": [
    "#bt4\n",
    "a = int(input(\"Số tuổi của người bầu cử: \"))\n",
    "if a >= 10:\n",
    "    print(\"Đủ tuổi bầu cử\")\n",
    "else:\n",
    "    Print(\"Chưa đủ tuổi bầu cử\")"
   ]
  },
  {
   "cell_type": "code",
   "execution_count": 25,
   "id": "6bc01644-893a-4f34-8c01-e3a72a411959",
   "metadata": {},
   "outputs": [
    {
     "name": "stdin",
     "output_type": "stream",
     "text": [
      " 3 3\n"
     ]
    },
    {
     "name": "stdout",
     "output_type": "stream",
     "text": [
      "a bằng b\n"
     ]
    }
   ],
   "source": [
    "#bt5\n",
    "a,b = map(int, input().split())\n",
    "if a > b:\n",
    "    print(a)\n",
    "elif a == b:\n",
    "    print(\"a bằng b\")"
   ]
  },
  {
   "cell_type": "code",
   "execution_count": 26,
   "id": "e6503a31-bd3f-49ca-ab25-6abc5bc8ec2c",
   "metadata": {},
   "outputs": [
    {
     "name": "stdin",
     "output_type": "stream",
     "text": [
      " 4\n"
     ]
    },
    {
     "name": "stdout",
     "output_type": "stream",
     "text": [
      "a là chữ số\n"
     ]
    }
   ],
   "source": [
    "#bt6\n",
    "a = input()\n",
    "if a.isalpha():\n",
    "    print(\"a là chữ cái\")\n",
    "elif a.isdigit():\n",
    "    print(\"a là chữ số\")"
   ]
  },
  {
   "cell_type": "code",
   "execution_count": 33,
   "id": "1ae1ea35-9a7f-417c-87fe-305717f970dc",
   "metadata": {},
   "outputs": [
    {
     "name": "stdin",
     "output_type": "stream",
     "text": [
      "Nhap diem:  9\n"
     ]
    },
    {
     "name": "stdout",
     "output_type": "stream",
     "text": [
      "Giỏi\n"
     ]
    }
   ],
   "source": [
    "\n",
    "#bt7\n",
    "a = float(input(\"Nhap diem: \"))\n",
    "if 0 <= a <= 10:\n",
    "    if a >= 8:\n",
    "        print(\"Giỏi\")\n",
    "    elif a >= 6.5:\n",
    "        print(\"Khá\")\n",
    "    elif a >= 5:\n",
    "        print(\"Trung bình\")\n",
    "    else:\n",
    "        print(\"Yếu\")\n",
    "else:\n",
    "    print(\"Điểm không hợp lệ!\")"
   ]
  },
  {
   "cell_type": "code",
   "execution_count": 28,
   "id": "126004da-648a-4e8f-9889-4a044235e2e2",
   "metadata": {},
   "outputs": [
    {
     "name": "stdin",
     "output_type": "stream",
     "text": [
      "Năm:  2023\n"
     ]
    },
    {
     "name": "stdout",
     "output_type": "stream",
     "text": [
      "2023 không phải là năm nhuận\n"
     ]
    }
   ],
   "source": [
    "#bt8\n",
    "a = int(input(\"Năm: \"))\n",
    "if a % 4 == 0 and a % 100 != 0:\n",
    "    print(f'{a} là năm nhuận')\n",
    "else:\n",
    "    print(f'{a} không phải là năm nhuận')"
   ]
  },
  {
   "cell_type": "code",
   "execution_count": 34,
   "id": "f7ca07ce-3d9e-4039-9ba7-d72f2772f83e",
   "metadata": {},
   "outputs": [
    {
     "name": "stdin",
     "output_type": "stream",
     "text": [
      "Nhập một số nguyên từ 0 đến 9:  9\n"
     ]
    },
    {
     "name": "stdout",
     "output_type": "stream",
     "text": [
      "Chín\n"
     ]
    }
   ],
   "source": [
    "#bt9\n",
    "n = int(input(\"Nhập một số nguyên từ 0 đến 9: \"))\n",
    "\n",
    "match n:\n",
    "    case 0:\n",
    "        print(\"Không\")\n",
    "    case 1:\n",
    "        print(\"Một\")\n",
    "    case 2:\n",
    "        print(\"Hai\")\n",
    "    case 3:\n",
    "        print(\"Ba\")\n",
    "    case 4:\n",
    "        print(\"Bốn\")\n",
    "    case 5:\n",
    "        print(\"Năm\")\n",
    "    case 6:\n",
    "        print(\"Sáu\")\n",
    "    case 7:\n",
    "        print(\"Bảy\")\n",
    "    case 8:\n",
    "        print(\"Tám\")\n",
    "    case 9:\n",
    "        print(\"Chín\")\n",
    "    case _:\n",
    "        print(\"Số không hợp lệ! Vui lòng nhập từ 0 đến 9.\")"
   ]
  },
  {
   "cell_type": "code",
   "execution_count": 30,
   "id": "66642dad-765e-4da0-aee0-2db20bb35fb2",
   "metadata": {},
   "outputs": [
    {
     "name": "stdin",
     "output_type": "stream",
     "text": [
      "Nhập điểm thi:  6\n"
     ]
    },
    {
     "name": "stdout",
     "output_type": "stream",
     "text": [
      "Qua môn\n"
     ]
    }
   ],
   "source": [
    "#bt10\n",
    "a = float(input(\"Nhập điểm thi: \"))\n",
    "if a >= 4:\n",
    "    print(\"Qua môn\")\n",
    "else:\n",
    "    Print(\"Trượt môn\")"
   ]
  },
  {
   "cell_type": "code",
   "execution_count": 32,
   "id": "37a74903-4f7b-4b0a-8fb4-b3409da994d2",
   "metadata": {},
   "outputs": [
    {
     "name": "stdin",
     "output_type": "stream",
     "text": [
      "Nhập năm sinh của bạn:  2008\n"
     ]
    },
    {
     "name": "stdout",
     "output_type": "stream",
     "text": [
      "bạn chưa đủ 18 tuổi\n"
     ]
    }
   ],
   "source": [
    "#bt11\n",
    "a = int(input(\"Nhập năm sinh của bạn: \"))\n",
    "b = 2025 - a\n",
    "if b >= 18:\n",
    "    print(\"bạn đã đủ 18 tuổi\")\n",
    "else:\n",
    "    print(\"bạn chưa đủ 18 tuổi\")"
   ]
  }
 ],
 "metadata": {
  "kernelspec": {
   "display_name": "Python 3 (ipykernel)",
   "language": "python",
   "name": "python3"
  },
  "language_info": {
   "codemirror_mode": {
    "name": "ipython",
    "version": 3
   },
   "file_extension": ".py",
   "mimetype": "text/x-python",
   "name": "python",
   "nbconvert_exporter": "python",
   "pygments_lexer": "ipython3",
   "version": "3.13.5"
  }
 },
 "nbformat": 4,
 "nbformat_minor": 5
}
