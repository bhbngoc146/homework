{
 "cells": [
  {
   "cell_type": "code",
   "execution_count": 10,
   "id": "ecf5a1ae-ea9a-4046-b8e5-bf388cd83ea1",
   "metadata": {},
   "outputs": [
    {
     "name": "stdin",
     "output_type": "stream",
     "text": [
      " 3 4\n"
     ]
    },
    {
     "name": "stdout",
     "output_type": "stream",
     "text": [
      "Diện tích tam giác là 12, Chu vi tam giác là 14\n"
     ]
    }
   ],
   "source": [
    "x, y = map(int, input().split())\n",
    "S = x * y\n",
    "P = 2 * ( x + y )\n",
    "print(f'Diện tích tam giác là {S}, Chu vi tam giác là {P}')"
   ]
  },
  {
   "cell_type": "code",
   "execution_count": 1,
   "id": "93f40873-818e-44dc-adc5-94ff0b345b84",
   "metadata": {},
   "outputs": [
    {
     "name": "stdin",
     "output_type": "stream",
     "text": [
      " 4\n"
     ]
    },
    {
     "name": "stdout",
     "output_type": "stream",
     "text": [
      "Chu vi hình tròn là 25.132741228718345, Diện tích hình tròn là 50.26548245743669\n"
     ]
    }
   ],
   "source": [
    "import math\n",
    "r = int(input())\n",
    "C = 2 * math.pi * r\n",
    "S = math.pi * r**2\n",
    "print(f'Chu vi hình tròn là {C}, Diện tích hình tròn là {S}')"
   ]
  },
  {
   "cell_type": "code",
   "execution_count": 30,
   "id": "80da81b1-f189-4d43-8f43-2c1692e56450",
   "metadata": {},
   "outputs": [
    {
     "name": "stdin",
     "output_type": "stream",
     "text": [
      "Nhập 3 cạnh của tam giác:  2 2 3\n"
     ]
    },
    {
     "name": "stdout",
     "output_type": "stream",
     "text": [
      "Đây là tam giác cân\n"
     ]
    }
   ],
   "source": [
    "a, b, c = map(int, input(\"Nhập 3 cạnh của tam giác: \").split())\n",
    "if a + b > c and a + c > b and b + c > a:\n",
    "    if a == b == c:\n",
    "       print(\"Đây là tam giác đều\")\n",
    "    elif a == b or a == c or b == c:\n",
    "        print(\"Đây là tam giác cân\")\n",
    "else:\n",
    "    print(\"Không phải tam giác\")"
   ]
  },
  {
   "cell_type": "code",
   "execution_count": 6,
   "id": "edf87c97-3d02-49cd-ae03-d58af2c8acac",
   "metadata": {},
   "outputs": [
    {
     "name": "stdin",
     "output_type": "stream",
     "text": [
      " 1 2\n"
     ]
    },
    {
     "name": "stdout",
     "output_type": "stream",
     "text": [
      "2.0\n"
     ]
    }
   ],
   "source": [
    "a, b = map(float, input().split())\n",
    "if a != 0:\n",
    "    x = b / a\n",
    "    print(x)\n",
    "if a == 0 and b == 0:\n",
    "    print('Phương trình có vô số nghiệm')\n",
    "if a ==0 and b != 0:\n",
    "    print('Phương trinh vô nghiệm')\n",
    "    "
   ]
  },
  {
   "cell_type": "code",
   "execution_count": 2,
   "id": "7491f97b-e3ee-4dde-8ce5-bcedc0ed0181",
   "metadata": {},
   "outputs": [
    {
     "name": "stdin",
     "output_type": "stream",
     "text": [
      " 1 3 4\n"
     ]
    },
    {
     "name": "stdout",
     "output_type": "stream",
     "text": [
      "Phương trình vô nghiệm\n"
     ]
    }
   ],
   "source": [
    "import math\n",
    "\n",
    "a, b, c = map(float, input().split())\n",
    "\n",
    "if a == 0:\n",
    "    if b == 0:\n",
    "        if c == 0:\n",
    "            print(\"Phương trình có vô số nghiệm.\")\n",
    "        else:\n",
    "            print(\"Phương trình vô nghiệm.\")\n",
    "    else:\n",
    "        x = -c / b\n",
    "        print(f\"Phương trình có nghiệm duy nhất: x = {x}\")\n",
    "else:\n",
    "    delta = b**2 - 4*a*c\n",
    "\n",
    "    if delta < 0:\n",
    "        print(\"Phương trình vô nghiệm\")\n",
    "    elif delta == 0:\n",
    "        x = -b / (2*a)\n",
    "        print(f\"Phương trình có nghiệm kép: x1 = x2 = {x}\")\n",
    "    else:\n",
    "        x1 = (-b + math.sqrt(delta)) / (2*a)\n",
    "        x2 = (-b - math.sqrt(delta)) / (2*a)\n",
    "        print(f\"Phương trình có 2 nghiệm phân biệt:\")\n",
    "        print(f\"x1 = {x1}\")\n",
    "        print(f\"x2 = {x2}\")"
   ]
  },
  {
   "cell_type": "code",
   "execution_count": 5,
   "id": "84edf543-8780-4a5a-b171-a44c2be75bd5",
   "metadata": {},
   "outputs": [
    {
     "name": "stdin",
     "output_type": "stream",
     "text": [
      " 1 2 3 4\n"
     ]
    },
    {
     "name": "stdout",
     "output_type": "stream",
     "text": [
      "4\n"
     ]
    }
   ],
   "source": [
    "a, b, c, d = map(int, input().split())\n",
    "print(max(a,b,c,d))"
   ]
  },
  {
   "cell_type": "code",
   "execution_count": 6,
   "id": "e623ad82-b3de-4145-b54f-58f86d4073c9",
   "metadata": {},
   "outputs": [
    {
     "name": "stdin",
     "output_type": "stream",
     "text": [
      " 3 4 7 2\n"
     ]
    },
    {
     "name": "stdout",
     "output_type": "stream",
     "text": [
      "2\n"
     ]
    }
   ],
   "source": [
    "a, b, c, d = map(int, input().split())\n",
    "print(min(a,b,c,d))"
   ]
  },
  {
   "cell_type": "code",
   "execution_count": 8,
   "id": "851b7ce9-e115-4840-bc43-7d1d5b6aecfc",
   "metadata": {},
   "outputs": [
    {
     "name": "stdin",
     "output_type": "stream",
     "text": [
      " 1 2 3 4 5 6\n"
     ]
    },
    {
     "name": "stdout",
     "output_type": "stream",
     "text": [
      "He co nghiem duy nhat:\n",
      "x = -1.0\n",
      "y = 2.0\n"
     ]
    }
   ],
   "source": [
    "a, b, m, c, d, n = map( float, input().split())\n",
    "if a/c == b/d == m/n:\n",
    "    print('PT có vô số nghiệm')\n",
    "elif a/c == b/d != m/n:\n",
    "    print('PT vô nghiệm')\n",
    "else:\n",
    "    D = a*d - b*c\n",
    "    Dx = m*d - b*n\n",
    "    Dy = a*n - m*c\n",
    "    x = Dx / D\n",
    "    y = Dy / D\n",
    "    print(\"He co nghiem duy nhat:\")\n",
    "    print(\"x =\", x)\n",
    "    print(\"y =\", y)"
   ]
  },
  {
   "cell_type": "code",
   "execution_count": 10,
   "id": "b8fe7afc-bc0a-4ff5-a542-70db5ad4ba8a",
   "metadata": {},
   "outputs": [
    {
     "name": "stdin",
     "output_type": "stream",
     "text": [
      " 6799\n"
     ]
    },
    {
     "name": "stdout",
     "output_type": "stream",
     "text": [
      "1 giờ 53 phút 19 giây\n"
     ]
    }
   ],
   "source": [
    "x = int(input())\n",
    "gio = x // 3600\n",
    "phut = (x % 3600) // 60\n",
    "giay = x % 60\n",
    "\n",
    "print(gio, \"giờ\", phut, \"phút\", giay, \"giây\")"
   ]
  },
  {
   "cell_type": "code",
   "execution_count": 11,
   "id": "e3e55be8-1a34-49e1-b166-62286ce63785",
   "metadata": {},
   "outputs": [
    {
     "name": "stdin",
     "output_type": "stream",
     "text": [
      "hoành độ tâm (x0):  4\n",
      "tung độ tâm (y0):  5\n",
      "r:  2\n",
      "hoành độ điểm A:  6\n",
      "tung độ điểm A:  8\n"
     ]
    },
    {
     "name": "stdout",
     "output_type": "stream",
     "text": [
      "Điểm A nằm bên ngoài đường tròn\n"
     ]
    }
   ],
   "source": [
    "x0 = float(input(\"hoành độ tâm (x0): \"))\n",
    "y0 = float(input(\"tung độ tâm (y0): \"))\n",
    "r = float(input(\"r: \"))\n",
    "x = float(input(\"hoành độ điểm A: \"))\n",
    "y = float(input(\"tung độ điểm A: \"))\n",
    "\n",
    "d = ((x - x0)**2 + (y - y0)**2)**0.5\n",
    "\n",
    "if d == r:\n",
    "    print(\"Điểm A nằm trên đường tròn\")\n",
    "elif d < r:\n",
    "    print(\"Điểm A nằm bên trong đường tròn\")\n",
    "else:\n",
    "    print(\"Điểm A nằm bên ngoài đường tròn\")\n"
   ]
  },
  {
   "cell_type": "code",
   "execution_count": 18,
   "id": "0515f58a-7f3d-4338-86e8-7ec80b77076d",
   "metadata": {},
   "outputs": [
    {
     "name": "stdin",
     "output_type": "stream",
     "text": [
      " 1 2\n"
     ]
    },
    {
     "name": "stdout",
     "output_type": "stream",
     "text": [
      "1\n"
     ]
    }
   ],
   "source": [
    "x, y = map(int, input().split())\n",
    "print(x**y)"
   ]
  }
 ],
 "metadata": {
  "kernelspec": {
   "display_name": "Python 3 (ipykernel)",
   "language": "python",
   "name": "python3"
  },
  "language_info": {
   "codemirror_mode": {
    "name": "ipython",
    "version": 3
   },
   "file_extension": ".py",
   "mimetype": "text/x-python",
   "name": "python",
   "nbconvert_exporter": "python",
   "pygments_lexer": "ipython3",
   "version": "3.13.5"
  }
 },
 "nbformat": 4,
 "nbformat_minor": 5
}
