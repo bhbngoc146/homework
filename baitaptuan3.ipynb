{
 "cells": [
  {
   "cell_type": "code",
   "execution_count": 30,
   "id": "d9c84425-a029-4faa-850e-3e719fe22c3c",
   "metadata": {},
   "outputs": [
    {
     "name": "stdout",
     "output_type": "stream",
     "text": [
      "12\n",
      "5\n"
     ]
    }
   ],
   "source": [
    "#W3A2\n",
    "a = 5\n",
    "b = 9 \n",
    "a = a ^ b\n",
    "b = b ^ a\n",
    "print(a)\n",
    "print(b)"
   ]
  },
  {
   "cell_type": "code",
   "execution_count": 9,
   "id": "4e5ab0f1-7915-4305-af76-6e94ae9454b1",
   "metadata": {},
   "outputs": [
    {
     "name": "stdin",
     "output_type": "stream",
     "text": [
      " 8\n"
     ]
    },
    {
     "name": "stdout",
     "output_type": "stream",
     "text": [
      "8 là lũy thừa của 2\n"
     ]
    }
   ],
   "source": [
    "#W3A3\n",
    "n = int(input())\n",
    "if n>= 0 and n&(n-1) == 0:\n",
    "    print(f'{n} là lũy thừa của 2')\n",
    "else:\n",
    "    print(f'{n} không phải là lũy thừa của 2')"
   ]
  },
  {
   "cell_type": "code",
   "execution_count": 47,
   "id": "ca612cf0-e5f0-490d-b369-d4abefe76f6a",
   "metadata": {},
   "outputs": [
    {
     "name": "stdin",
     "output_type": "stream",
     "text": [
      " 3 4\n"
     ]
    },
    {
     "name": "stdout",
     "output_type": "stream",
     "text": [
      "0\n"
     ]
    }
   ],
   "source": [
    "#W3A4\n",
    "import math\n",
    "m, n = map(int, input().split())\n",
    "a = m / n\n",
    "print(math.floor(a))"
   ]
  },
  {
   "cell_type": "code",
   "execution_count": 48,
   "id": "9d2d4f23-f519-4d20-90f9-b40457dc3fbc",
   "metadata": {},
   "outputs": [
    {
     "name": "stdin",
     "output_type": "stream",
     "text": [
      " 3 4\n"
     ]
    },
    {
     "name": "stdout",
     "output_type": "stream",
     "text": [
      "1\n"
     ]
    }
   ],
   "source": [
    "#W3A5\n",
    "import math\n",
    "m, n = map(int, input().split())\n",
    "a = m / n\n",
    "print(math.ceil(a))"
   ]
  },
  {
   "cell_type": "code",
   "execution_count": 3,
   "id": "a5b35462-bdfc-4b03-9a18-7a8a6aa83749",
   "metadata": {},
   "outputs": [
    {
     "name": "stdin",
     "output_type": "stream",
     "text": [
      " 44\n"
     ]
    },
    {
     "name": "stdout",
     "output_type": "stream",
     "text": [
      "Even\n"
     ]
    }
   ],
   "source": [
    "#W3A6\n",
    "x = int(input())\n",
    "if x%2 == 0:\n",
    "    print('Even')\n",
    "else:\n",
    "    print('Odd')\n",
    "        "
   ]
  },
  {
   "cell_type": "code",
   "execution_count": 49,
   "id": "8b5bc416-5d75-468f-9aa0-1b3d01348931",
   "metadata": {},
   "outputs": [
    {
     "name": "stdin",
     "output_type": "stream",
     "text": [
      " 2 3\n"
     ]
    },
    {
     "name": "stdout",
     "output_type": "stream",
     "text": [
      "no\n"
     ]
    }
   ],
   "source": [
    "#W3A7\n",
    "a,b = map(int, input().split())\n",
    "if a < 0 and b < 0:\n",
    "    print('yes')\n",
    "else:\n",
    "    print('no')"
   ]
  },
  {
   "cell_type": "code",
   "execution_count": 7,
   "id": "62d0a13d-f41b-486c-aaf2-3fe72811f763",
   "metadata": {},
   "outputs": [
    {
     "name": "stdin",
     "output_type": "stream",
     "text": [
      " ab bc\n"
     ]
    },
    {
     "name": "stdout",
     "output_type": "stream",
     "text": [
      "false\n"
     ]
    }
   ],
   "source": [
    "#W3A8\n",
    "a, b = map(str, input().split())\n",
    "if len(a) > len(b):\n",
    "    print('true')\n",
    "else:\n",
    "    print('false')\n"
   ]
  },
  {
   "cell_type": "code",
   "execution_count": 12,
   "id": "fc14ed5e-12e2-4bc0-a3e0-c40f124fc745",
   "metadata": {},
   "outputs": [
    {
     "name": "stdin",
     "output_type": "stream",
     "text": [
      " 1 2 3\n"
     ]
    },
    {
     "name": "stdout",
     "output_type": "stream",
     "text": [
      "no\n"
     ]
    }
   ],
   "source": [
    "#W3A9\n",
    "a, b, c = input().split()\n",
    "if a + b > c and a + c > b and b+c>a:\n",
    "    print('yes')\n",
    "else:\n",
    "    print('no')"
   ]
  },
  {
   "cell_type": "code",
   "execution_count": 17,
   "id": "475d48da-7ce7-46ef-b9bf-17134593cc5a",
   "metadata": {},
   "outputs": [
    {
     "name": "stdin",
     "output_type": "stream",
     "text": [
      " 1 2 3 4\n"
     ]
    },
    {
     "name": "stdout",
     "output_type": "stream",
     "text": [
      "4\n"
     ]
    }
   ],
   "source": [
    "#WA310\n",
    "a, b, c, d = map(int, input().split())\n",
    "print(max(a, b, c, d))"
   ]
  },
  {
   "cell_type": "code",
   "execution_count": 24,
   "id": "25900ab9-7b5a-4f55-b2e7-8c5e05e92fc1",
   "metadata": {},
   "outputs": [
    {
     "name": "stdin",
     "output_type": "stream",
     "text": [
      "Nhập 3 cạnh của tam giác:  2 3 4\n"
     ]
    },
    {
     "name": "stdout",
     "output_type": "stream",
     "text": [
      "tam giác thường\n"
     ]
    }
   ],
   "source": [
    "#W3A11\n",
    "a, b, c = map(int, input(\"Nhập 3 cạnh của tam giác: \").split())\n",
    "if a + b > c or a + c > b or b + c > a:\n",
    "    print('tam giác thường')\n",
    "    if a == b == c:\n",
    "       print(\"tam giác đều\")\n",
    "    elif a == b or a == c or b == c:\n",
    "        print(\"tam giác cân\")\n",
    "else:\n",
    "    print(\"Không phải tam giác\")"
   ]
  },
  {
   "cell_type": "code",
   "execution_count": 23,
   "id": "3e9fda01-08a2-403a-be08-de3faceca696",
   "metadata": {},
   "outputs": [
    {
     "name": "stdin",
     "output_type": "stream",
     "text": [
      " 2002\n"
     ]
    },
    {
     "name": "stdout",
     "output_type": "stream",
     "text": [
      "no\n"
     ]
    }
   ],
   "source": [
    "#W3A12\n",
    "x = int(input())\n",
    "if (x%4 == 0 and x % 100) != 0 or x % 400:\n",
    "    print('Yes')\n",
    "else: print('no')"
   ]
  },
  {
   "cell_type": "code",
   "execution_count": 22,
   "id": "20547137-0433-43e0-9a5a-3b4746fa7c29",
   "metadata": {},
   "outputs": [
    {
     "name": "stdin",
     "output_type": "stream",
     "text": [
      " 1 2\n"
     ]
    },
    {
     "name": "stdout",
     "output_type": "stream",
     "text": [
      "Nghiệm của phương trình là -2.00\n"
     ]
    }
   ],
   "source": [
    "#W3A14\n",
    "a, b = map(int, input().split())\n",
    "if a != 0:\n",
    "    x=  - b/a\n",
    "    print(f'Nghiệm của phương trình là {x:.2f}')\n",
    "if a == 0 and b == 0:\n",
    "    print('Phương trình có vô số nghiệm')\n",
    "if a == 0 and b != 0:\n",
    "    print('Phương trình vô nghiệm')        \n"
   ]
  },
  {
   "cell_type": "code",
   "execution_count": 25,
   "id": "d97c1759-8041-4aba-a76b-ea765b8b7924",
   "metadata": {},
   "outputs": [
    {
     "name": "stdin",
     "output_type": "stream",
     "text": [
      "Nhap diem:  6\n"
     ]
    },
    {
     "name": "stdout",
     "output_type": "stream",
     "text": [
      "Trung bình\n"
     ]
    }
   ],
   "source": [
    "#W3A15\n",
    "a = float(input(\"Nhap diem: \"))\n",
    "if 0 <= a <= 10:\n",
    "    if a >= 8:\n",
    "        print(\"Giỏi\")\n",
    "    elif a >= 6.5:\n",
    "        print(\"Khá\")\n",
    "    elif a >= 5:\n",
    "        print(\"Trung bình\")\n",
    "    else:\n",
    "        print(\"Yếu\")\n",
    "else:\n",
    "    print(\"Điểm không hợp lệ!\")"
   ]
  },
  {
   "cell_type": "code",
   "execution_count": 64,
   "id": "d564f46c-5761-4e10-b3f0-df569ca234ce",
   "metadata": {},
   "outputs": [
    {
     "name": "stdin",
     "output_type": "stream",
     "text": [
      " 6.7\n"
     ]
    },
    {
     "name": "stdout",
     "output_type": "stream",
     "text": [
      "7 6 7\n"
     ]
    }
   ],
   "source": [
    "#W3A16\n",
    "a = float(input())\n",
    "inte = int(a)\n",
    "\n",
    "if a>0:\n",
    "    up = inte + 1\n",
    "    down = inte\n",
    "    b = a - inte\n",
    "    if b> 0.5: \n",
    "        nearest = inte + 1\n",
    "    else: nearest = inte\n",
    "elif a<0:\n",
    "    up = inte\n",
    "    down = inte\n",
    "    if b>0.5:\n",
    "        nearest = inte -1\n",
    "    else: nearest = inte\n",
    "\n",
    "print(up, down, nearest)"
   ]
  },
  {
   "cell_type": "code",
   "execution_count": 24,
   "id": "72cd19d2-db1a-4559-8424-28423a5317cc",
   "metadata": {},
   "outputs": [
    {
     "name": "stdin",
     "output_type": "stream",
     "text": [
      " 1 1 1 1\n"
     ]
    },
    {
     "name": "stdout",
     "output_type": "stream",
     "text": [
      "4 số trên có thể tạo thành một cấp số nhân với công bội = 1\n"
     ]
    }
   ],
   "source": [
    "#W3A17\n",
    "a, b, c, d = map(int, input().split())\n",
    "q = b // a\n",
    "if b % a == 0:\n",
    "    if b*q==c and c*q==d:\n",
    "        print(f'4 số trên có thể tạo thành một cấp số nhân với công bội = {q}')\n",
    "    else:\n",
    "        print('Không tạo thành cấp số nhân')"
   ]
  }
 ],
 "metadata": {
  "kernelspec": {
   "display_name": "Python 3 (ipykernel)",
   "language": "python",
   "name": "python3"
  },
  "language_info": {
   "codemirror_mode": {
    "name": "ipython",
    "version": 3
   },
   "file_extension": ".py",
   "mimetype": "text/x-python",
   "name": "python",
   "nbconvert_exporter": "python",
   "pygments_lexer": "ipython3",
   "version": "3.13.5"
  }
 },
 "nbformat": 4,
 "nbformat_minor": 5
}
